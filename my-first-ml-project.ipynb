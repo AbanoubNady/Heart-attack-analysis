{
 "cells": [
  {
   "cell_type": "code",
   "execution_count": 1,
   "id": "6915c8a9",
   "metadata": {
    "execution": {
     "iopub.execute_input": "2021-09-22T16:46:59.292854Z",
     "iopub.status.busy": "2021-09-22T16:46:59.283052Z",
     "iopub.status.idle": "2021-09-22T16:47:00.353283Z",
     "shell.execute_reply": "2021-09-22T16:47:00.352276Z",
     "shell.execute_reply.started": "2021-09-22T16:46:14.475899Z"
    },
    "papermill": {
     "duration": 1.110303,
     "end_time": "2021-09-22T16:47:00.353475",
     "exception": false,
     "start_time": "2021-09-22T16:46:59.243172",
     "status": "completed"
    },
    "tags": []
   },
   "outputs": [],
   "source": [
    "#importing libararies\n",
    "import pandas as pd \n",
    "import numpy as np \n",
    "import matplotlib.pyplot as plt\n",
    "import seaborn as sb\n",
    "%matplotlib inline\n",
    "import warnings\n",
    "warnings.simplefilter(action='ignore', category=Warning)"
   ]
  },
  {
   "cell_type": "markdown",
   "id": "5b55c45e",
   "metadata": {
    "papermill": {
     "duration": 0.032674,
     "end_time": "2021-09-22T16:47:00.420262",
     "exception": false,
     "start_time": "2021-09-22T16:47:00.387588",
     "status": "completed"
    },
    "tags": []
   },
   "source": [
    "This Dataset it is about Heart attack\n",
    "it consists from differnt types of feature like (age,sex,chest pain(cp),blood presure (trtbps), Fasting blood sugar(fbs),restecg,thalachh(maximum heart rate),oldpeak,slp,caa,thall)\n",
    "and the output that he have a heart attack or not "
   ]
  },
  {
   "cell_type": "code",
   "execution_count": 2,
   "id": "08d5c897",
   "metadata": {
    "execution": {
     "iopub.execute_input": "2021-09-22T16:47:00.497805Z",
     "iopub.status.busy": "2021-09-22T16:47:00.497083Z",
     "iopub.status.idle": "2021-09-22T16:47:00.543215Z",
     "shell.execute_reply": "2021-09-22T16:47:00.542308Z",
     "shell.execute_reply.started": "2021-09-22T16:46:15.378981Z"
    },
    "papermill": {
     "duration": 0.087556,
     "end_time": "2021-09-22T16:47:00.543450",
     "exception": false,
     "start_time": "2021-09-22T16:47:00.455894",
     "status": "completed"
    },
    "tags": []
   },
   "outputs": [
    {
     "data": {
      "text/html": [
       "<div>\n",
       "<style scoped>\n",
       "    .dataframe tbody tr th:only-of-type {\n",
       "        vertical-align: middle;\n",
       "    }\n",
       "\n",
       "    .dataframe tbody tr th {\n",
       "        vertical-align: top;\n",
       "    }\n",
       "\n",
       "    .dataframe thead th {\n",
       "        text-align: right;\n",
       "    }\n",
       "</style>\n",
       "<table border=\"1\" class=\"dataframe\">\n",
       "  <thead>\n",
       "    <tr style=\"text-align: right;\">\n",
       "      <th></th>\n",
       "      <th>age</th>\n",
       "      <th>sex</th>\n",
       "      <th>cp</th>\n",
       "      <th>trtbps</th>\n",
       "      <th>chol</th>\n",
       "      <th>fbs</th>\n",
       "      <th>restecg</th>\n",
       "      <th>thalachh</th>\n",
       "      <th>exng</th>\n",
       "      <th>oldpeak</th>\n",
       "      <th>slp</th>\n",
       "      <th>caa</th>\n",
       "      <th>thall</th>\n",
       "      <th>output</th>\n",
       "    </tr>\n",
       "  </thead>\n",
       "  <tbody>\n",
       "    <tr>\n",
       "      <th>0</th>\n",
       "      <td>63</td>\n",
       "      <td>1</td>\n",
       "      <td>3</td>\n",
       "      <td>145</td>\n",
       "      <td>233</td>\n",
       "      <td>1</td>\n",
       "      <td>0</td>\n",
       "      <td>150</td>\n",
       "      <td>0</td>\n",
       "      <td>2.3</td>\n",
       "      <td>0</td>\n",
       "      <td>0</td>\n",
       "      <td>1</td>\n",
       "      <td>1</td>\n",
       "    </tr>\n",
       "    <tr>\n",
       "      <th>1</th>\n",
       "      <td>37</td>\n",
       "      <td>1</td>\n",
       "      <td>2</td>\n",
       "      <td>130</td>\n",
       "      <td>250</td>\n",
       "      <td>0</td>\n",
       "      <td>1</td>\n",
       "      <td>187</td>\n",
       "      <td>0</td>\n",
       "      <td>3.5</td>\n",
       "      <td>0</td>\n",
       "      <td>0</td>\n",
       "      <td>2</td>\n",
       "      <td>1</td>\n",
       "    </tr>\n",
       "    <tr>\n",
       "      <th>2</th>\n",
       "      <td>41</td>\n",
       "      <td>0</td>\n",
       "      <td>1</td>\n",
       "      <td>130</td>\n",
       "      <td>204</td>\n",
       "      <td>0</td>\n",
       "      <td>0</td>\n",
       "      <td>172</td>\n",
       "      <td>0</td>\n",
       "      <td>1.4</td>\n",
       "      <td>2</td>\n",
       "      <td>0</td>\n",
       "      <td>2</td>\n",
       "      <td>1</td>\n",
       "    </tr>\n",
       "    <tr>\n",
       "      <th>3</th>\n",
       "      <td>56</td>\n",
       "      <td>1</td>\n",
       "      <td>1</td>\n",
       "      <td>120</td>\n",
       "      <td>236</td>\n",
       "      <td>0</td>\n",
       "      <td>1</td>\n",
       "      <td>178</td>\n",
       "      <td>0</td>\n",
       "      <td>0.8</td>\n",
       "      <td>2</td>\n",
       "      <td>0</td>\n",
       "      <td>2</td>\n",
       "      <td>1</td>\n",
       "    </tr>\n",
       "    <tr>\n",
       "      <th>4</th>\n",
       "      <td>57</td>\n",
       "      <td>0</td>\n",
       "      <td>0</td>\n",
       "      <td>120</td>\n",
       "      <td>354</td>\n",
       "      <td>0</td>\n",
       "      <td>1</td>\n",
       "      <td>163</td>\n",
       "      <td>1</td>\n",
       "      <td>0.6</td>\n",
       "      <td>2</td>\n",
       "      <td>0</td>\n",
       "      <td>2</td>\n",
       "      <td>1</td>\n",
       "    </tr>\n",
       "  </tbody>\n",
       "</table>\n",
       "</div>"
      ],
      "text/plain": [
       "   age  sex  cp  trtbps  chol  fbs  restecg  thalachh  exng  oldpeak  slp  \\\n",
       "0   63    1   3     145   233    1        0       150     0      2.3    0   \n",
       "1   37    1   2     130   250    0        1       187     0      3.5    0   \n",
       "2   41    0   1     130   204    0        0       172     0      1.4    2   \n",
       "3   56    1   1     120   236    0        1       178     0      0.8    2   \n",
       "4   57    0   0     120   354    0        1       163     1      0.6    2   \n",
       "\n",
       "   caa  thall  output  \n",
       "0    0      1       1  \n",
       "1    0      2       1  \n",
       "2    0      2       1  \n",
       "3    0      2       1  \n",
       "4    0      2       1  "
      ]
     },
     "execution_count": 2,
     "metadata": {},
     "output_type": "execute_result"
    }
   ],
   "source": [
    "df = pd.read_csv('../input/heart-attack-analysis-prediction-dataset/heart.csv')\n",
    "df.head()"
   ]
  },
  {
   "cell_type": "code",
   "execution_count": 3,
   "id": "e3c47699",
   "metadata": {
    "execution": {
     "iopub.execute_input": "2021-09-22T16:47:00.629903Z",
     "iopub.status.busy": "2021-09-22T16:47:00.629165Z",
     "iopub.status.idle": "2021-09-22T16:47:00.645876Z",
     "shell.execute_reply": "2021-09-22T16:47:00.646521Z",
     "shell.execute_reply.started": "2021-09-22T16:46:15.431517Z"
    },
    "papermill": {
     "duration": 0.067466,
     "end_time": "2021-09-22T16:47:00.646753",
     "exception": false,
     "start_time": "2021-09-22T16:47:00.579287",
     "status": "completed"
    },
    "tags": []
   },
   "outputs": [
    {
     "name": "stdout",
     "output_type": "stream",
     "text": [
      "<class 'pandas.core.frame.DataFrame'>\n",
      "RangeIndex: 303 entries, 0 to 302\n",
      "Data columns (total 14 columns):\n",
      " #   Column    Non-Null Count  Dtype  \n",
      "---  ------    --------------  -----  \n",
      " 0   age       303 non-null    int64  \n",
      " 1   sex       303 non-null    int64  \n",
      " 2   cp        303 non-null    int64  \n",
      " 3   trtbps    303 non-null    int64  \n",
      " 4   chol      303 non-null    int64  \n",
      " 5   fbs       303 non-null    int64  \n",
      " 6   restecg   303 non-null    int64  \n",
      " 7   thalachh  303 non-null    int64  \n",
      " 8   exng      303 non-null    int64  \n",
      " 9   oldpeak   303 non-null    float64\n",
      " 10  slp       303 non-null    int64  \n",
      " 11  caa       303 non-null    int64  \n",
      " 12  thall     303 non-null    int64  \n",
      " 13  output    303 non-null    int64  \n",
      "dtypes: float64(1), int64(13)\n",
      "memory usage: 33.3 KB\n"
     ]
    }
   ],
   "source": [
    "#investigate a dataset\n",
    "df.info()"
   ]
  },
  {
   "cell_type": "code",
   "execution_count": 4,
   "id": "ff1d90e5",
   "metadata": {
    "execution": {
     "iopub.execute_input": "2021-09-22T16:47:00.722941Z",
     "iopub.status.busy": "2021-09-22T16:47:00.722220Z",
     "iopub.status.idle": "2021-09-22T16:47:00.773630Z",
     "shell.execute_reply": "2021-09-22T16:47:00.774189Z",
     "shell.execute_reply.started": "2021-09-22T16:46:15.459015Z"
    },
    "papermill": {
     "duration": 0.090636,
     "end_time": "2021-09-22T16:47:00.774397",
     "exception": false,
     "start_time": "2021-09-22T16:47:00.683761",
     "status": "completed"
    },
    "tags": []
   },
   "outputs": [
    {
     "data": {
      "text/html": [
       "<div>\n",
       "<style scoped>\n",
       "    .dataframe tbody tr th:only-of-type {\n",
       "        vertical-align: middle;\n",
       "    }\n",
       "\n",
       "    .dataframe tbody tr th {\n",
       "        vertical-align: top;\n",
       "    }\n",
       "\n",
       "    .dataframe thead th {\n",
       "        text-align: right;\n",
       "    }\n",
       "</style>\n",
       "<table border=\"1\" class=\"dataframe\">\n",
       "  <thead>\n",
       "    <tr style=\"text-align: right;\">\n",
       "      <th></th>\n",
       "      <th>age</th>\n",
       "      <th>sex</th>\n",
       "      <th>cp</th>\n",
       "      <th>trtbps</th>\n",
       "      <th>chol</th>\n",
       "      <th>fbs</th>\n",
       "      <th>restecg</th>\n",
       "      <th>thalachh</th>\n",
       "      <th>exng</th>\n",
       "      <th>oldpeak</th>\n",
       "      <th>slp</th>\n",
       "      <th>caa</th>\n",
       "      <th>thall</th>\n",
       "      <th>output</th>\n",
       "    </tr>\n",
       "  </thead>\n",
       "  <tbody>\n",
       "    <tr>\n",
       "      <th>count</th>\n",
       "      <td>303.000000</td>\n",
       "      <td>303.000000</td>\n",
       "      <td>303.000000</td>\n",
       "      <td>303.000000</td>\n",
       "      <td>303.000000</td>\n",
       "      <td>303.000000</td>\n",
       "      <td>303.000000</td>\n",
       "      <td>303.000000</td>\n",
       "      <td>303.000000</td>\n",
       "      <td>303.000000</td>\n",
       "      <td>303.000000</td>\n",
       "      <td>303.000000</td>\n",
       "      <td>303.000000</td>\n",
       "      <td>303.000000</td>\n",
       "    </tr>\n",
       "    <tr>\n",
       "      <th>mean</th>\n",
       "      <td>54.366337</td>\n",
       "      <td>0.683168</td>\n",
       "      <td>0.966997</td>\n",
       "      <td>131.623762</td>\n",
       "      <td>246.264026</td>\n",
       "      <td>0.148515</td>\n",
       "      <td>0.528053</td>\n",
       "      <td>149.646865</td>\n",
       "      <td>0.326733</td>\n",
       "      <td>1.039604</td>\n",
       "      <td>1.399340</td>\n",
       "      <td>0.729373</td>\n",
       "      <td>2.313531</td>\n",
       "      <td>0.544554</td>\n",
       "    </tr>\n",
       "    <tr>\n",
       "      <th>std</th>\n",
       "      <td>9.082101</td>\n",
       "      <td>0.466011</td>\n",
       "      <td>1.032052</td>\n",
       "      <td>17.538143</td>\n",
       "      <td>51.830751</td>\n",
       "      <td>0.356198</td>\n",
       "      <td>0.525860</td>\n",
       "      <td>22.905161</td>\n",
       "      <td>0.469794</td>\n",
       "      <td>1.161075</td>\n",
       "      <td>0.616226</td>\n",
       "      <td>1.022606</td>\n",
       "      <td>0.612277</td>\n",
       "      <td>0.498835</td>\n",
       "    </tr>\n",
       "    <tr>\n",
       "      <th>min</th>\n",
       "      <td>29.000000</td>\n",
       "      <td>0.000000</td>\n",
       "      <td>0.000000</td>\n",
       "      <td>94.000000</td>\n",
       "      <td>126.000000</td>\n",
       "      <td>0.000000</td>\n",
       "      <td>0.000000</td>\n",
       "      <td>71.000000</td>\n",
       "      <td>0.000000</td>\n",
       "      <td>0.000000</td>\n",
       "      <td>0.000000</td>\n",
       "      <td>0.000000</td>\n",
       "      <td>0.000000</td>\n",
       "      <td>0.000000</td>\n",
       "    </tr>\n",
       "    <tr>\n",
       "      <th>25%</th>\n",
       "      <td>47.500000</td>\n",
       "      <td>0.000000</td>\n",
       "      <td>0.000000</td>\n",
       "      <td>120.000000</td>\n",
       "      <td>211.000000</td>\n",
       "      <td>0.000000</td>\n",
       "      <td>0.000000</td>\n",
       "      <td>133.500000</td>\n",
       "      <td>0.000000</td>\n",
       "      <td>0.000000</td>\n",
       "      <td>1.000000</td>\n",
       "      <td>0.000000</td>\n",
       "      <td>2.000000</td>\n",
       "      <td>0.000000</td>\n",
       "    </tr>\n",
       "    <tr>\n",
       "      <th>50%</th>\n",
       "      <td>55.000000</td>\n",
       "      <td>1.000000</td>\n",
       "      <td>1.000000</td>\n",
       "      <td>130.000000</td>\n",
       "      <td>240.000000</td>\n",
       "      <td>0.000000</td>\n",
       "      <td>1.000000</td>\n",
       "      <td>153.000000</td>\n",
       "      <td>0.000000</td>\n",
       "      <td>0.800000</td>\n",
       "      <td>1.000000</td>\n",
       "      <td>0.000000</td>\n",
       "      <td>2.000000</td>\n",
       "      <td>1.000000</td>\n",
       "    </tr>\n",
       "    <tr>\n",
       "      <th>75%</th>\n",
       "      <td>61.000000</td>\n",
       "      <td>1.000000</td>\n",
       "      <td>2.000000</td>\n",
       "      <td>140.000000</td>\n",
       "      <td>274.500000</td>\n",
       "      <td>0.000000</td>\n",
       "      <td>1.000000</td>\n",
       "      <td>166.000000</td>\n",
       "      <td>1.000000</td>\n",
       "      <td>1.600000</td>\n",
       "      <td>2.000000</td>\n",
       "      <td>1.000000</td>\n",
       "      <td>3.000000</td>\n",
       "      <td>1.000000</td>\n",
       "    </tr>\n",
       "    <tr>\n",
       "      <th>max</th>\n",
       "      <td>77.000000</td>\n",
       "      <td>1.000000</td>\n",
       "      <td>3.000000</td>\n",
       "      <td>200.000000</td>\n",
       "      <td>564.000000</td>\n",
       "      <td>1.000000</td>\n",
       "      <td>2.000000</td>\n",
       "      <td>202.000000</td>\n",
       "      <td>1.000000</td>\n",
       "      <td>6.200000</td>\n",
       "      <td>2.000000</td>\n",
       "      <td>4.000000</td>\n",
       "      <td>3.000000</td>\n",
       "      <td>1.000000</td>\n",
       "    </tr>\n",
       "  </tbody>\n",
       "</table>\n",
       "</div>"
      ],
      "text/plain": [
       "              age         sex          cp      trtbps        chol         fbs  \\\n",
       "count  303.000000  303.000000  303.000000  303.000000  303.000000  303.000000   \n",
       "mean    54.366337    0.683168    0.966997  131.623762  246.264026    0.148515   \n",
       "std      9.082101    0.466011    1.032052   17.538143   51.830751    0.356198   \n",
       "min     29.000000    0.000000    0.000000   94.000000  126.000000    0.000000   \n",
       "25%     47.500000    0.000000    0.000000  120.000000  211.000000    0.000000   \n",
       "50%     55.000000    1.000000    1.000000  130.000000  240.000000    0.000000   \n",
       "75%     61.000000    1.000000    2.000000  140.000000  274.500000    0.000000   \n",
       "max     77.000000    1.000000    3.000000  200.000000  564.000000    1.000000   \n",
       "\n",
       "          restecg    thalachh        exng     oldpeak         slp         caa  \\\n",
       "count  303.000000  303.000000  303.000000  303.000000  303.000000  303.000000   \n",
       "mean     0.528053  149.646865    0.326733    1.039604    1.399340    0.729373   \n",
       "std      0.525860   22.905161    0.469794    1.161075    0.616226    1.022606   \n",
       "min      0.000000   71.000000    0.000000    0.000000    0.000000    0.000000   \n",
       "25%      0.000000  133.500000    0.000000    0.000000    1.000000    0.000000   \n",
       "50%      1.000000  153.000000    0.000000    0.800000    1.000000    0.000000   \n",
       "75%      1.000000  166.000000    1.000000    1.600000    2.000000    1.000000   \n",
       "max      2.000000  202.000000    1.000000    6.200000    2.000000    4.000000   \n",
       "\n",
       "            thall      output  \n",
       "count  303.000000  303.000000  \n",
       "mean     2.313531    0.544554  \n",
       "std      0.612277    0.498835  \n",
       "min      0.000000    0.000000  \n",
       "25%      2.000000    0.000000  \n",
       "50%      2.000000    1.000000  \n",
       "75%      3.000000    1.000000  \n",
       "max      3.000000    1.000000  "
      ]
     },
     "execution_count": 4,
     "metadata": {},
     "output_type": "execute_result"
    }
   ],
   "source": [
    "#investigate a dataset\n",
    "df.describe()"
   ]
  },
  {
   "cell_type": "code",
   "execution_count": 5,
   "id": "ba2ad511",
   "metadata": {
    "execution": {
     "iopub.execute_input": "2021-09-22T16:47:00.849440Z",
     "iopub.status.busy": "2021-09-22T16:47:00.848598Z",
     "iopub.status.idle": "2021-09-22T16:47:00.854349Z",
     "shell.execute_reply": "2021-09-22T16:47:00.854895Z",
     "shell.execute_reply.started": "2021-09-22T16:46:15.509011Z"
    },
    "papermill": {
     "duration": 0.045689,
     "end_time": "2021-09-22T16:47:00.855138",
     "exception": false,
     "start_time": "2021-09-22T16:47:00.809449",
     "status": "completed"
    },
    "tags": []
   },
   "outputs": [
    {
     "data": {
      "text/plain": [
       "(303, 14)"
      ]
     },
     "execution_count": 5,
     "metadata": {},
     "output_type": "execute_result"
    }
   ],
   "source": [
    "#investigate a dataset\n",
    "\n",
    "df.shape"
   ]
  },
  {
   "cell_type": "markdown",
   "id": "d3123104",
   "metadata": {
    "papermill": {
     "duration": 0.035391,
     "end_time": "2021-09-22T16:47:00.926229",
     "exception": false,
     "start_time": "2021-09-22T16:47:00.890838",
     "status": "completed"
    },
    "tags": []
   },
   "source": [
    "### exploratory analysis"
   ]
  },
  {
   "cell_type": "code",
   "execution_count": 6,
   "id": "d984cbc7",
   "metadata": {
    "execution": {
     "iopub.execute_input": "2021-09-22T16:47:01.024980Z",
     "iopub.status.busy": "2021-09-22T16:47:01.000886Z",
     "iopub.status.idle": "2021-09-22T16:47:01.204954Z",
     "shell.execute_reply": "2021-09-22T16:47:01.205556Z",
     "shell.execute_reply.started": "2021-09-22T16:46:15.517611Z"
    },
    "papermill": {
     "duration": 0.243764,
     "end_time": "2021-09-22T16:47:01.205769",
     "exception": false,
     "start_time": "2021-09-22T16:47:00.962005",
     "status": "completed"
    },
    "tags": []
   },
   "outputs": [
    {
     "data": {
      "image/png": "[encoded data removed]",
      "text/plain": [
       "<Figure size 432x288 with 1 Axes>"
      ]
     },
     "metadata": {
      "needs_background": "light"
     },
     "output_type": "display_data"
    }
   ],
   "source": [
    "sb.countplot(df['output'])\n",
    "plt.title('count of output')\n",
    "plt.title('count of heart attacks');"
   ]
  },
  {
   "cell_type": "code",
   "execution_count": 7,
   "id": "4a1be1e6",
   "metadata": {
    "execution": {
     "iopub.execute_input": "2021-09-22T16:47:01.297460Z",
     "iopub.status.busy": "2021-09-22T16:47:01.296152Z",
     "iopub.status.idle": "2021-09-22T16:47:02.005324Z",
     "shell.execute_reply": "2021-09-22T16:47:02.004746Z",
     "shell.execute_reply.started": "2021-09-22T16:46:15.759057Z"
    },
    "papermill": {
     "duration": 0.763653,
     "end_time": "2021-09-22T16:47:02.005511",
     "exception": false,
     "start_time": "2021-09-22T16:47:01.241858",
     "status": "completed"
    },
    "tags": []
   },
   "outputs": [
    {
     "data": {
      "image/png": "[encoded data removed]",
      "text/plain": [
       "<Figure size 1440x720 with 1 Axes>"
      ]
     },
     "metadata": {
      "needs_background": "light"
     },
     "output_type": "display_data"
    }
   ],
   "source": [
    "plt.figure(figsize=(20, 10))\n",
    "sb.countplot(df['age'])\n",
    "plt.title('Age count',fontsize=20)\n",
    "plt.xlabel('Age',fontsize=20)\n",
    "plt.ylabel('count',fontsize=20)\n",
    "plt.xticks(fontsize=20)\n",
    "plt.yticks(fontsize=20);"
   ]
  },
  {
   "cell_type": "code",
   "execution_count": 8,
   "id": "d76d2ebf",
   "metadata": {
    "execution": {
     "iopub.execute_input": "2021-09-22T16:47:02.088590Z",
     "iopub.status.busy": "2021-09-22T16:47:02.087593Z",
     "iopub.status.idle": "2021-09-22T16:47:03.206187Z",
     "shell.execute_reply": "2021-09-22T16:47:03.206719Z",
     "shell.execute_reply.started": "2021-09-22T16:46:16.408861Z"
    },
    "papermill": {
     "duration": 1.163749,
     "end_time": "2021-09-22T16:47:03.206922",
     "exception": false,
     "start_time": "2021-09-22T16:47:02.043173",
     "status": "completed"
    },
    "tags": []
   },
   "outputs": [
    {
     "data": {
      "image/png": "[encoded data removed]",
      "text/plain": [
       "<Figure size 1440x720 with 2 Axes>"
      ]
     },
     "metadata": {
      "needs_background": "light"
     },
     "output_type": "display_data"
    }
   ],
   "source": [
    "plt.figure(figsize=(20, 10))\n",
    "matrix=np.triu(df.corr())\n",
    "sb.heatmap(df.corr(),annot=True,mask=matrix,cmap='rocket')\n",
    "plt.title('effects map');"
   ]
  },
  {
   "cell_type": "code",
   "execution_count": 9,
   "id": "9749610d",
   "metadata": {
    "execution": {
     "iopub.execute_input": "2021-09-22T16:47:03.293524Z",
     "iopub.status.busy": "2021-09-22T16:47:03.292452Z",
     "iopub.status.idle": "2021-09-22T16:47:03.477224Z",
     "shell.execute_reply": "2021-09-22T16:47:03.477765Z",
     "shell.execute_reply.started": "2021-09-22T16:46:17.342046Z"
    },
    "papermill": {
     "duration": 0.230713,
     "end_time": "2021-09-22T16:47:03.477979",
     "exception": false,
     "start_time": "2021-09-22T16:47:03.247266",
     "status": "completed"
    },
    "tags": []
   },
   "outputs": [
    {
     "data": {
      "image/png": "[encoded data removed]",
      "text/plain": [
       "<Figure size 432x288 with 1 Axes>"
      ]
     },
     "metadata": {
      "needs_background": "light"
     },
     "output_type": "display_data"
    },
    {
     "name": "stdout",
     "output_type": "stream",
     "text": [
      "0 = Females  1 = Male\n"
     ]
    }
   ],
   "source": [
    "sb.countplot(df['sex'])\n",
    "plt.title('sex count')\n",
    "plt.show()\n",
    "print('0 = Females  1 = Male');"
   ]
  },
  {
   "cell_type": "code",
   "execution_count": 10,
   "id": "1ce2b487",
   "metadata": {
    "execution": {
     "iopub.execute_input": "2021-09-22T16:47:03.589656Z",
     "iopub.status.busy": "2021-09-22T16:47:03.588737Z",
     "iopub.status.idle": "2021-09-22T16:47:03.782733Z",
     "shell.execute_reply": "2021-09-22T16:47:03.782107Z",
     "shell.execute_reply.started": "2021-09-22T16:46:17.630517Z"
    },
    "papermill": {
     "duration": 0.263952,
     "end_time": "2021-09-22T16:47:03.782893",
     "exception": false,
     "start_time": "2021-09-22T16:47:03.518941",
     "status": "completed"
    },
    "tags": []
   },
   "outputs": [
    {
     "data": {
      "image/png": "[encoded data removed]",
      "text/plain": [
       "<Figure size 432x288 with 1 Axes>"
      ]
     },
     "metadata": {
      "needs_background": "light"
     },
     "output_type": "display_data"
    }
   ],
   "source": [
    "sb.countplot(df['cp'])\n",
    "plt.title('count of chest`s pain');"
   ]
  },
  {
   "cell_type": "code",
   "execution_count": 11,
   "id": "eee5d3e3",
   "metadata": {
    "execution": {
     "iopub.execute_input": "2021-09-22T16:47:03.872964Z",
     "iopub.status.busy": "2021-09-22T16:47:03.871910Z",
     "iopub.status.idle": "2021-09-22T16:47:04.048922Z",
     "shell.execute_reply": "2021-09-22T16:47:04.049428Z",
     "shell.execute_reply.started": "2021-09-22T16:46:17.830428Z"
    },
    "papermill": {
     "duration": 0.22473,
     "end_time": "2021-09-22T16:47:04.049645",
     "exception": false,
     "start_time": "2021-09-22T16:47:03.824915",
     "status": "completed"
    },
    "tags": []
   },
   "outputs": [
    {
     "data": {
      "image/png": "[encoded data removed]",
      "text/plain": [
       "<Figure size 432x288 with 1 Axes>"
      ]
     },
     "metadata": {
      "needs_background": "light"
     },
     "output_type": "display_data"
    }
   ],
   "source": [
    "sb.countplot(df['fbs']);"
   ]
  },
  {
   "cell_type": "code",
   "execution_count": 12,
   "id": "e80c2a95",
   "metadata": {
    "execution": {
     "iopub.execute_input": "2021-09-22T16:47:04.139900Z",
     "iopub.status.busy": "2021-09-22T16:47:04.138838Z",
     "iopub.status.idle": "2021-09-22T16:47:04.340127Z",
     "shell.execute_reply": "2021-09-22T16:47:04.340718Z",
     "shell.execute_reply.started": "2021-09-22T16:46:17.997810Z"
    },
    "papermill": {
     "duration": 0.249285,
     "end_time": "2021-09-22T16:47:04.340933",
     "exception": false,
     "start_time": "2021-09-22T16:47:04.091648",
     "status": "completed"
    },
    "tags": []
   },
   "outputs": [
    {
     "data": {
      "image/png": "[encoded data removed]",
      "text/plain": [
       "<Figure size 432x288 with 1 Axes>"
      ]
     },
     "metadata": {
      "needs_background": "light"
     },
     "output_type": "display_data"
    }
   ],
   "source": [
    "sb.countplot(df['restecg']);"
   ]
  },
  {
   "cell_type": "code",
   "execution_count": 13,
   "id": "f9537328",
   "metadata": {
    "execution": {
     "iopub.execute_input": "2021-09-22T16:47:04.456747Z",
     "iopub.status.busy": "2021-09-22T16:47:04.433291Z",
     "iopub.status.idle": "2021-09-22T16:47:04.631562Z",
     "shell.execute_reply": "2021-09-22T16:47:04.632124Z",
     "shell.execute_reply.started": "2021-09-22T16:46:18.183730Z"
    },
    "papermill": {
     "duration": 0.246793,
     "end_time": "2021-09-22T16:47:04.632369",
     "exception": false,
     "start_time": "2021-09-22T16:47:04.385576",
     "status": "completed"
    },
    "tags": []
   },
   "outputs": [
    {
     "data": {
      "image/png": "[encoded data removed]",
      "text/plain": [
       "<Figure size 432x288 with 1 Axes>"
      ]
     },
     "metadata": {
      "needs_background": "light"
     },
     "output_type": "display_data"
    }
   ],
   "source": [
    "sb.countplot(df['exng']);"
   ]
  },
  {
   "cell_type": "code",
   "execution_count": 14,
   "id": "b0b8fa70",
   "metadata": {
    "execution": {
     "iopub.execute_input": "2021-09-22T16:47:04.724861Z",
     "iopub.status.busy": "2021-09-22T16:47:04.723877Z",
     "iopub.status.idle": "2021-09-22T16:47:04.920214Z",
     "shell.execute_reply": "2021-09-22T16:47:04.920755Z",
     "shell.execute_reply.started": "2021-09-22T16:46:18.369833Z"
    },
    "papermill": {
     "duration": 0.245019,
     "end_time": "2021-09-22T16:47:04.920959",
     "exception": false,
     "start_time": "2021-09-22T16:47:04.675940",
     "status": "completed"
    },
    "tags": []
   },
   "outputs": [
    {
     "data": {
      "image/png": "[encoded data removed]",
      "text/plain": [
       "<Figure size 432x288 with 1 Axes>"
      ]
     },
     "metadata": {
      "needs_background": "light"
     },
     "output_type": "display_data"
    }
   ],
   "source": [
    "sb.countplot(df['slp']);"
   ]
  },
  {
   "cell_type": "code",
   "execution_count": 15,
   "id": "5c7cbabc",
   "metadata": {
    "execution": {
     "iopub.execute_input": "2021-09-22T16:47:05.016134Z",
     "iopub.status.busy": "2021-09-22T16:47:05.015373Z",
     "iopub.status.idle": "2021-09-22T16:47:05.233102Z",
     "shell.execute_reply": "2021-09-22T16:47:05.233672Z",
     "shell.execute_reply.started": "2021-09-22T16:46:18.564577Z"
    },
    "papermill": {
     "duration": 0.267945,
     "end_time": "2021-09-22T16:47:05.233893",
     "exception": false,
     "start_time": "2021-09-22T16:47:04.965948",
     "status": "completed"
    },
    "tags": []
   },
   "outputs": [
    {
     "data": {
      "image/png": "[encoded data removed]",
      "text/plain": [
       "<Figure size 432x288 with 1 Axes>"
      ]
     },
     "metadata": {
      "needs_background": "light"
     },
     "output_type": "display_data"
    }
   ],
   "source": [
    "sb.countplot(df['caa']);"
   ]
  },
  {
   "cell_type": "code",
   "execution_count": 16,
   "id": "4155bcd2",
   "metadata": {
    "execution": {
     "iopub.execute_input": "2021-09-22T16:47:05.327149Z",
     "iopub.status.busy": "2021-09-22T16:47:05.326351Z",
     "iopub.status.idle": "2021-09-22T16:47:05.534190Z",
     "shell.execute_reply": "2021-09-22T16:47:05.533481Z",
     "shell.execute_reply.started": "2021-09-22T16:46:18.772015Z"
    },
    "papermill": {
     "duration": 0.255866,
     "end_time": "2021-09-22T16:47:05.534364",
     "exception": false,
     "start_time": "2021-09-22T16:47:05.278498",
     "status": "completed"
    },
    "tags": []
   },
   "outputs": [
    {
     "data": {
      "image/png": "[encoded data removed]",
      "text/plain": [
       "<Figure size 432x288 with 1 Axes>"
      ]
     },
     "metadata": {
      "needs_background": "light"
     },
     "output_type": "display_data"
    }
   ],
   "source": [
    "sb.countplot(df['thall']);"
   ]
  },
  {
   "cell_type": "code",
   "execution_count": 17,
   "id": "aaefbc91",
   "metadata": {
    "execution": {
     "iopub.execute_input": "2021-09-22T16:47:05.656573Z",
     "iopub.status.busy": "2021-09-22T16:47:05.639568Z",
     "iopub.status.idle": "2021-09-22T16:47:07.096794Z",
     "shell.execute_reply": "2021-09-22T16:47:07.095732Z",
     "shell.execute_reply.started": "2021-09-22T16:46:18.976608Z"
    },
    "papermill": {
     "duration": 1.517373,
     "end_time": "2021-09-22T16:47:07.096979",
     "exception": false,
     "start_time": "2021-09-22T16:47:05.579606",
     "status": "completed"
    },
    "tags": []
   },
   "outputs": [
    {
     "data": {
      "image/png": "[encoded data removed]",
      "text/plain": [
       "<Figure size 360x360 with 1 Axes>"
      ]
     },
     "metadata": {
      "needs_background": "light"
     },
     "output_type": "display_data"
    },
    {
     "data": {
      "image/png": "[encoded data removed]",
      "text/plain": [
       "<Figure size 360x360 with 1 Axes>"
      ]
     },
     "metadata": {
      "needs_background": "light"
     },
     "output_type": "display_data"
    },
    {
     "data": {
      "image/png": "[encoded data removed]",
      "text/plain": [
       "<Figure size 360x360 with 1 Axes>"
      ]
     },
     "metadata": {
      "needs_background": "light"
     },
     "output_type": "display_data"
    },
    {
     "data": {
      "image/png": "[encoded data removed]",
      "text/plain": [
       "<Figure size 360x360 with 1 Axes>"
      ]
     },
     "metadata": {
      "needs_background": "light"
     },
     "output_type": "display_data"
    },
    {
     "data": {
      "image/png": "[encoded data removed]",
      "text/plain": [
       "<Figure size 360x360 with 1 Axes>"
      ]
     },
     "metadata": {
      "needs_background": "light"
     },
     "output_type": "display_data"
    }
   ],
   "source": [
    "sb.catplot(data=df,x='output',y='age',kind='box')\n",
    "sb.catplot(data=df,x='output',y='trtbps',kind='box')\n",
    "sb.catplot(data=df,x='output',y='chol',kind='box')\n",
    "sb.catplot(data=df,x='output',y='thalachh',kind='box')\n",
    "sb.catplot(data=df,x='output',y='oldpeak',kind='box');"
   ]
  },
  {
   "cell_type": "code",
   "execution_count": 18,
   "id": "318d01e9",
   "metadata": {
    "execution": {
     "iopub.execute_input": "2021-09-22T16:47:07.202997Z",
     "iopub.status.busy": "2021-09-22T16:47:07.202284Z",
     "iopub.status.idle": "2021-09-22T16:47:07.424761Z",
     "shell.execute_reply": "2021-09-22T16:47:07.425303Z",
     "shell.execute_reply.started": "2021-09-22T16:46:20.341331Z"
    },
    "papermill": {
     "duration": 0.277222,
     "end_time": "2021-09-22T16:47:07.425522",
     "exception": false,
     "start_time": "2021-09-22T16:47:07.148300",
     "status": "completed"
    },
    "tags": []
   },
   "outputs": [
    {
     "data": {
      "image/png": "[encoded data removed]",
      "text/plain": [
       "<Figure size 432x288 with 1 Axes>"
      ]
     },
     "metadata": {
      "needs_background": "light"
     },
     "output_type": "display_data"
    }
   ],
   "source": [
    "chest_pain=df['cp'].value_counts().reset_index()\n",
    "sb.barplot(data=chest_pain,x='index',y='cp')\n",
    "plt.title('Chest pain Counts');"
   ]
  },
  {
   "cell_type": "code",
   "execution_count": 19,
   "id": "a29ff4f0",
   "metadata": {
    "execution": {
     "iopub.execute_input": "2021-09-22T16:47:07.528638Z",
     "iopub.status.busy": "2021-09-22T16:47:07.527893Z",
     "iopub.status.idle": "2021-09-22T16:47:07.876349Z",
     "shell.execute_reply": "2021-09-22T16:47:07.876876Z",
     "shell.execute_reply.started": "2021-09-22T16:46:20.551741Z"
    },
    "papermill": {
     "duration": 0.402354,
     "end_time": "2021-09-22T16:47:07.877133",
     "exception": false,
     "start_time": "2021-09-22T16:47:07.474779",
     "status": "completed"
    },
    "tags": []
   },
   "outputs": [
    {
     "data": {
      "image/png": "[encoded data removed]",
      "text/plain": [
       "<Figure size 360x360 with 1 Axes>"
      ]
     },
     "metadata": {
      "needs_background": "light"
     },
     "output_type": "display_data"
    }
   ],
   "source": [
    "sb.displot(df['trtbps'])\n",
    "plt.xticks(np.arange(100,210,20));"
   ]
  },
  {
   "cell_type": "code",
   "execution_count": 20,
   "id": "fba56f4b",
   "metadata": {
    "execution": {
     "iopub.execute_input": "2021-09-22T16:47:07.983268Z",
     "iopub.status.busy": "2021-09-22T16:47:07.982529Z",
     "iopub.status.idle": "2021-09-22T16:47:08.373604Z",
     "shell.execute_reply": "2021-09-22T16:47:08.372958Z",
     "shell.execute_reply.started": "2021-09-22T16:46:20.877586Z"
    },
    "papermill": {
     "duration": 0.446581,
     "end_time": "2021-09-22T16:47:08.373798",
     "exception": false,
     "start_time": "2021-09-22T16:47:07.927217",
     "status": "completed"
    },
    "tags": []
   },
   "outputs": [
    {
     "data": {
      "image/png": "[encoded data removed]",
      "text/plain": [
       "<Figure size 360x360 with 1 Axes>"
      ]
     },
     "metadata": {
      "needs_background": "light"
     },
     "output_type": "display_data"
    }
   ],
   "source": [
    "sb.displot(df['chol'])\n",
    "plt.xticks(np.arange(50,600,50));"
   ]
  },
  {
   "cell_type": "code",
   "execution_count": 21,
   "id": "d73f18d4",
   "metadata": {
    "execution": {
     "iopub.execute_input": "2021-09-22T16:47:08.745655Z",
     "iopub.status.busy": "2021-09-22T16:47:08.743491Z",
     "iopub.status.idle": "2021-09-22T16:47:09.061910Z",
     "shell.execute_reply": "2021-09-22T16:47:09.061216Z",
     "shell.execute_reply.started": "2021-09-22T16:46:21.236823Z"
    },
    "papermill": {
     "duration": 0.637021,
     "end_time": "2021-09-22T16:47:09.062092",
     "exception": false,
     "start_time": "2021-09-22T16:47:08.425071",
     "status": "completed"
    },
    "tags": []
   },
   "outputs": [
    {
     "data": {
      "image/png": "[encoded data removed]",
      "text/plain": [
       "<Figure size 360x360 with 1 Axes>"
      ]
     },
     "metadata": {
      "needs_background": "light"
     },
     "output_type": "display_data"
    }
   ],
   "source": [
    "sb.displot(df['thalachh'])\n",
    "plt.xticks(np.arange(80,220,20));"
   ]
  },
  {
   "cell_type": "code",
   "execution_count": 22,
   "id": "cd50cc17",
   "metadata": {
    "execution": {
     "iopub.execute_input": "2021-09-22T16:47:09.199713Z",
     "iopub.status.busy": "2021-09-22T16:47:09.184563Z",
     "iopub.status.idle": "2021-09-22T16:47:09.556552Z",
     "shell.execute_reply": "2021-09-22T16:47:09.555974Z",
     "shell.execute_reply.started": "2021-09-22T16:46:21.551084Z"
    },
    "papermill": {
     "duration": 0.441704,
     "end_time": "2021-09-22T16:47:09.556716",
     "exception": false,
     "start_time": "2021-09-22T16:47:09.115012",
     "status": "completed"
    },
    "tags": []
   },
   "outputs": [
    {
     "data": {
      "text/plain": [
       "<AxesSubplot:xlabel='age', ylabel='Count'>"
      ]
     },
     "execution_count": 22,
     "metadata": {},
     "output_type": "execute_result"
    },
    {
     "data": {
      "image/png": "[encoded data removed]",
      "text/plain": [
       "<Figure size 432x288 with 1 Axes>"
      ]
     },
     "metadata": {
      "needs_background": "light"
     },
     "output_type": "display_data"
    }
   ],
   "source": [
    "sb.histplot(data=df,x='age',hue='output')"
   ]
  },
  {
   "cell_type": "code",
   "execution_count": 23,
   "id": "69ed3274",
   "metadata": {
    "execution": {
     "iopub.execute_input": "2021-09-22T16:47:09.674121Z",
     "iopub.status.busy": "2021-09-22T16:47:09.673378Z",
     "iopub.status.idle": "2021-09-22T16:47:09.676863Z",
     "shell.execute_reply": "2021-09-22T16:47:09.676253Z",
     "shell.execute_reply.started": "2021-09-22T16:46:22.023802Z"
    },
    "papermill": {
     "duration": 0.066829,
     "end_time": "2021-09-22T16:47:09.677040",
     "exception": false,
     "start_time": "2021-09-22T16:47:09.610211",
     "status": "completed"
    },
    "tags": []
   },
   "outputs": [],
   "source": [
    "feataure_df=np.asanyarray(df[['age','sex','cp','trtbps','chol','fbs','restecg','thalachh','thalachh','exng','oldpeak','slp','caa','thall']])\n",
    "y_data=np.asanyarray(df[['output']])"
   ]
  },
  {
   "cell_type": "code",
   "execution_count": 24,
   "id": "946fc2a8",
   "metadata": {
    "execution": {
     "iopub.execute_input": "2021-09-22T16:47:09.787650Z",
     "iopub.status.busy": "2021-09-22T16:47:09.786922Z",
     "iopub.status.idle": "2021-09-22T16:47:09.946623Z",
     "shell.execute_reply": "2021-09-22T16:47:09.945901Z",
     "shell.execute_reply.started": "2021-09-22T16:46:22.031877Z"
    },
    "papermill": {
     "duration": 0.217184,
     "end_time": "2021-09-22T16:47:09.946783",
     "exception": false,
     "start_time": "2021-09-22T16:47:09.729599",
     "status": "completed"
    },
    "tags": []
   },
   "outputs": [],
   "source": [
    "#prepare our data for classification \n",
    "from sklearn.preprocessing import StandardScaler\n",
    "x=StandardScaler().fit(feataure_df).transform(feataure_df)"
   ]
  },
  {
   "cell_type": "code",
   "execution_count": 25,
   "id": "c71240d2",
   "metadata": {
    "execution": {
     "iopub.execute_input": "2021-09-22T16:47:10.055536Z",
     "iopub.status.busy": "2021-09-22T16:47:10.054790Z",
     "iopub.status.idle": "2021-09-22T16:47:10.122124Z",
     "shell.execute_reply": "2021-09-22T16:47:10.122691Z",
     "shell.execute_reply.started": "2021-09-22T16:46:22.158258Z"
    },
    "papermill": {
     "duration": 0.12373,
     "end_time": "2021-09-22T16:47:10.122903",
     "exception": false,
     "start_time": "2021-09-22T16:47:09.999173",
     "status": "completed"
    },
    "tags": []
   },
   "outputs": [],
   "source": [
    "#split the data\n",
    "from sklearn.model_selection import train_test_split\n",
    "x_train,x_test,y_train,y_test=train_test_split(x,y_data,test_size=.2,random_state=4)"
   ]
  },
  {
   "cell_type": "code",
   "execution_count": 26,
   "id": "81302da1",
   "metadata": {
    "execution": {
     "iopub.execute_input": "2021-09-22T16:47:10.235728Z",
     "iopub.status.busy": "2021-09-22T16:47:10.234709Z",
     "iopub.status.idle": "2021-09-22T16:47:10.342674Z",
     "shell.execute_reply": "2021-09-22T16:47:10.341767Z",
     "shell.execute_reply.started": "2021-09-22T16:46:22.209544Z"
    },
    "papermill": {
     "duration": 0.167077,
     "end_time": "2021-09-22T16:47:10.342863",
     "exception": false,
     "start_time": "2021-09-22T16:47:10.175786",
     "status": "completed"
    },
    "tags": []
   },
   "outputs": [],
   "source": [
    "#classification list to add our classifier in it\n",
    "classifiers=[]\n",
    "#first classification model is Logistic Regression \n",
    "from sklearn.linear_model import LogisticRegression\n",
    "Classifier_1=LogisticRegression(C=.01, solver='liblinear')\n",
    "Classifier_1.fit(x_train,y_train)\n",
    "classifiers.append(Classifier_1)"
   ]
  },
  {
   "cell_type": "code",
   "execution_count": 27,
   "id": "e622e58f",
   "metadata": {
    "execution": {
     "iopub.execute_input": "2021-09-22T16:47:10.451187Z",
     "iopub.status.busy": "2021-09-22T16:47:10.450156Z",
     "iopub.status.idle": "2021-09-22T16:47:10.455124Z",
     "shell.execute_reply": "2021-09-22T16:47:10.455595Z",
     "shell.execute_reply.started": "2021-09-22T16:46:22.286002Z"
    },
    "papermill": {
     "duration": 0.060891,
     "end_time": "2021-09-22T16:47:10.455801",
     "exception": false,
     "start_time": "2021-09-22T16:47:10.394910",
     "status": "completed"
    },
    "tags": []
   },
   "outputs": [],
   "source": [
    "#Try the classifier Outputs\n",
    "result_1=Classifier_1.predict(x_test)\n",
    "prob_result=Classifier_1.predict_proba(x_test)"
   ]
  },
  {
   "cell_type": "code",
   "execution_count": 28,
   "id": "6f480949",
   "metadata": {
    "execution": {
     "iopub.execute_input": "2021-09-22T16:47:10.568523Z",
     "iopub.status.busy": "2021-09-22T16:47:10.563409Z",
     "iopub.status.idle": "2021-09-22T16:47:10.576002Z",
     "shell.execute_reply": "2021-09-22T16:47:10.575432Z",
     "shell.execute_reply.started": "2021-09-22T16:46:22.297814Z"
    },
    "papermill": {
     "duration": 0.067954,
     "end_time": "2021-09-22T16:47:10.576175",
     "exception": false,
     "start_time": "2021-09-22T16:47:10.508221",
     "status": "completed"
    },
    "tags": []
   },
   "outputs": [
    {
     "name": "stdout",
     "output_type": "stream",
     "text": [
      "              precision    recall  f1-score   support\n",
      "\n",
      "           0       0.95      0.84      0.89        25\n",
      "           1       0.90      0.97      0.93        36\n",
      "\n",
      "    accuracy                           0.92        61\n",
      "   macro avg       0.93      0.91      0.91        61\n",
      "weighted avg       0.92      0.92      0.92        61\n",
      "\n"
     ]
    }
   ],
   "source": [
    "#calculate the accuracy of the classifier\n",
    "\n",
    "from sklearn.metrics import classification_report, accuracy_score\n",
    "print(classification_report(y_test,result_1))"
   ]
  },
  {
   "cell_type": "code",
   "execution_count": 29,
   "id": "18b24f64",
   "metadata": {
    "execution": {
     "iopub.execute_input": "2021-09-22T16:47:10.691498Z",
     "iopub.status.busy": "2021-09-22T16:47:10.690719Z",
     "iopub.status.idle": "2021-09-22T16:47:10.846819Z",
     "shell.execute_reply": "2021-09-22T16:47:10.846259Z",
     "shell.execute_reply.started": "2021-09-22T16:46:22.310437Z"
    },
    "papermill": {
     "duration": 0.21803,
     "end_time": "2021-09-22T16:47:10.846983",
     "exception": false,
     "start_time": "2021-09-22T16:47:10.628953",
     "status": "completed"
    },
    "tags": []
   },
   "outputs": [],
   "source": [
    "#second classification model is KNN\n",
    "#try many K to find the best K\n",
    "\n",
    "from sklearn.neighbors import KNeighborsClassifier\n",
    "KNN_list=[]\n",
    "for K in range(1,11):\n",
    "    KNN=KNeighborsClassifier(n_neighbors=K).fit(x_train,y_train)\n",
    "    KNN_list.append(KNN)\n",
    "Y_list=[]\n",
    "for KNN_1 in KNN_list:\n",
    "    y_hat=KNN_1.predict(x_test)\n",
    "    Y_list.append(y_hat)\n",
    "from sklearn import metrics\n",
    "List_1=[]\n",
    "for KNN_2 in KNN_list:\n",
    "    Metric1=metrics.accuracy_score(y_test, KNN_2.predict(x_test))\n",
    "    List_1.append(Metric1)"
   ]
  },
  {
   "cell_type": "code",
   "execution_count": 30,
   "id": "da4511c9",
   "metadata": {
    "execution": {
     "iopub.execute_input": "2021-09-22T16:47:11.007199Z",
     "iopub.status.busy": "2021-09-22T16:47:10.996130Z",
     "iopub.status.idle": "2021-09-22T16:47:11.297625Z",
     "shell.execute_reply": "2021-09-22T16:47:11.298115Z",
     "shell.execute_reply.started": "2021-09-22T16:46:22.449255Z"
    },
    "papermill": {
     "duration": 0.39786,
     "end_time": "2021-09-22T16:47:11.298357",
     "exception": false,
     "start_time": "2021-09-22T16:47:10.900497",
     "status": "completed"
    },
    "tags": []
   },
   "outputs": [
    {
     "data": {
      "image/png": "[encoded data removed]",
      "text/plain": [
       "<Figure size 432x288 with 1 Axes>"
      ]
     },
     "metadata": {
      "needs_background": "light"
     },
     "output_type": "display_data"
    }
   ],
   "source": [
    "#plot the result to determine the best K\n",
    "for a,b in enumerate(List_1):\n",
    "    plt.scatter(x=a+1,y=b,color='r')\n",
    "plt.xticks(np.arange(1,11));"
   ]
  },
  {
   "cell_type": "code",
   "execution_count": 31,
   "id": "b305cd45",
   "metadata": {
    "execution": {
     "iopub.execute_input": "2021-09-22T16:47:11.410159Z",
     "iopub.status.busy": "2021-09-22T16:47:11.409418Z",
     "iopub.status.idle": "2021-09-22T16:47:11.425170Z",
     "shell.execute_reply": "2021-09-22T16:47:11.424503Z",
     "shell.execute_reply.started": "2021-09-22T16:46:22.812538Z"
    },
    "papermill": {
     "duration": 0.07359,
     "end_time": "2021-09-22T16:47:11.425331",
     "exception": false,
     "start_time": "2021-09-22T16:47:11.351741",
     "status": "completed"
    },
    "tags": []
   },
   "outputs": [
    {
     "name": "stdout",
     "output_type": "stream",
     "text": [
      "              precision    recall  f1-score   support\n",
      "\n",
      "           0       0.79      0.88      0.83        25\n",
      "           1       0.91      0.83      0.87        36\n",
      "\n",
      "    accuracy                           0.85        61\n",
      "   macro avg       0.85      0.86      0.85        61\n",
      "weighted avg       0.86      0.85      0.85        61\n",
      "\n"
     ]
    }
   ],
   "source": [
    "#the best K is 9\n",
    "Classifier_2=KNN_list[8]\n",
    "result_2=Classifier_2.predict(x_test)\n",
    "print(classification_report(y_test,result_2))\n",
    "classifiers.append(Classifier_2)"
   ]
  },
  {
   "cell_type": "code",
   "execution_count": 32,
   "id": "ba37c65e",
   "metadata": {
    "execution": {
     "iopub.execute_input": "2021-09-22T16:47:11.540466Z",
     "iopub.status.busy": "2021-09-22T16:47:11.539738Z",
     "iopub.status.idle": "2021-09-22T16:47:11.546057Z",
     "shell.execute_reply": "2021-09-22T16:47:11.545340Z",
     "shell.execute_reply.started": "2021-09-22T16:46:22.827710Z"
    },
    "papermill": {
     "duration": 0.067028,
     "end_time": "2021-09-22T16:47:11.546228",
     "exception": false,
     "start_time": "2021-09-22T16:47:11.479200",
     "status": "completed"
    },
    "tags": []
   },
   "outputs": [],
   "source": [
    "#third classifier is SVC\n",
    "from sklearn import svm\n",
    "Classifier_3=svm.SVC()\n",
    "Classifier_3.fit(x_train,y_train)\n",
    "classifiers.append(Classifier_3)"
   ]
  },
  {
   "cell_type": "code",
   "execution_count": 33,
   "id": "322bbb7d",
   "metadata": {
    "execution": {
     "iopub.execute_input": "2021-09-22T16:47:11.663911Z",
     "iopub.status.busy": "2021-09-22T16:47:11.663195Z",
     "iopub.status.idle": "2021-09-22T16:47:11.665592Z",
     "shell.execute_reply": "2021-09-22T16:47:11.666200Z",
     "shell.execute_reply.started": "2021-09-22T16:46:22.836736Z"
    },
    "papermill": {
     "duration": 0.066361,
     "end_time": "2021-09-22T16:47:11.666409",
     "exception": false,
     "start_time": "2021-09-22T16:47:11.600048",
     "status": "completed"
    },
    "tags": []
   },
   "outputs": [],
   "source": [
    "#testing the model\n",
    "result_3=Classifier_3.predict(x_test)"
   ]
  },
  {
   "cell_type": "code",
   "execution_count": 34,
   "id": "492a4cfa",
   "metadata": {
    "execution": {
     "iopub.execute_input": "2021-09-22T16:47:11.779184Z",
     "iopub.status.busy": "2021-09-22T16:47:11.776902Z",
     "iopub.status.idle": "2021-09-22T16:47:11.787215Z",
     "shell.execute_reply": "2021-09-22T16:47:11.786491Z",
     "shell.execute_reply.started": "2021-09-22T16:46:22.845310Z"
    },
    "papermill": {
     "duration": 0.067089,
     "end_time": "2021-09-22T16:47:11.787402",
     "exception": false,
     "start_time": "2021-09-22T16:47:11.720313",
     "status": "completed"
    },
    "tags": []
   },
   "outputs": [
    {
     "name": "stdout",
     "output_type": "stream",
     "text": [
      "              precision    recall  f1-score   support\n",
      "\n",
      "           0       0.77      0.96      0.86        25\n",
      "           1       0.97      0.81      0.88        36\n",
      "\n",
      "    accuracy                           0.87        61\n",
      "   macro avg       0.87      0.88      0.87        61\n",
      "weighted avg       0.89      0.87      0.87        61\n",
      "\n"
     ]
    }
   ],
   "source": [
    "#evaluate the model\n",
    "print(classification_report(y_test,result_3))"
   ]
  },
  {
   "cell_type": "code",
   "execution_count": 35,
   "id": "a065ac30",
   "metadata": {
    "execution": {
     "iopub.execute_input": "2021-09-22T16:47:11.906585Z",
     "iopub.status.busy": "2021-09-22T16:47:11.905850Z",
     "iopub.status.idle": "2021-09-22T16:47:11.946375Z",
     "shell.execute_reply": "2021-09-22T16:47:11.945683Z",
     "shell.execute_reply.started": "2021-09-22T16:46:22.864858Z"
    },
    "papermill": {
     "duration": 0.102294,
     "end_time": "2021-09-22T16:47:11.946560",
     "exception": false,
     "start_time": "2021-09-22T16:47:11.844266",
     "status": "completed"
    },
    "tags": []
   },
   "outputs": [],
   "source": [
    "#forth Classifier is  Decision Tree\n",
    "from sklearn.tree import DecisionTreeClassifier\n",
    "Classifier_4=DecisionTreeClassifier()\n",
    "Classifier_4.fit(x_train,y_train)\n",
    "classifiers.append(Classifier_4)"
   ]
  },
  {
   "cell_type": "code",
   "execution_count": 36,
   "id": "7f5f4e58",
   "metadata": {
    "execution": {
     "iopub.execute_input": "2021-09-22T16:47:12.066109Z",
     "iopub.status.busy": "2021-09-22T16:47:12.059772Z",
     "iopub.status.idle": "2021-09-22T16:47:12.074360Z",
     "shell.execute_reply": "2021-09-22T16:47:12.073768Z",
     "shell.execute_reply.started": "2021-09-22T16:46:22.900712Z"
    },
    "papermill": {
     "duration": 0.073405,
     "end_time": "2021-09-22T16:47:12.074536",
     "exception": false,
     "start_time": "2021-09-22T16:47:12.001131",
     "status": "completed"
    },
    "tags": []
   },
   "outputs": [
    {
     "name": "stdout",
     "output_type": "stream",
     "text": [
      "              precision    recall  f1-score   support\n",
      "\n",
      "           0       0.75      0.84      0.79        25\n",
      "           1       0.88      0.81      0.84        36\n",
      "\n",
      "    accuracy                           0.82        61\n",
      "   macro avg       0.81      0.82      0.82        61\n",
      "weighted avg       0.83      0.82      0.82        61\n",
      "\n"
     ]
    }
   ],
   "source": [
    "#testing the model the model\n",
    "result_4=Classifier_4.predict(x_test)\n",
    "print(classification_report(y_test,result_4))"
   ]
  },
  {
   "cell_type": "code",
   "execution_count": 37,
   "id": "77f7410a",
   "metadata": {
    "execution": {
     "iopub.execute_input": "2021-09-22T16:47:12.193507Z",
     "iopub.status.busy": "2021-09-22T16:47:12.192430Z",
     "iopub.status.idle": "2021-09-22T16:47:12.198468Z",
     "shell.execute_reply": "2021-09-22T16:47:12.197900Z",
     "shell.execute_reply.started": "2021-09-22T16:46:22.911431Z"
    },
    "papermill": {
     "duration": 0.067193,
     "end_time": "2021-09-22T16:47:12.198633",
     "exception": false,
     "start_time": "2021-09-22T16:47:12.131440",
     "status": "completed"
    },
    "tags": []
   },
   "outputs": [
    {
     "data": {
      "text/plain": [
       "0.819672131147541"
      ]
     },
     "execution_count": 37,
     "metadata": {},
     "output_type": "execute_result"
    }
   ],
   "source": [
    "#evaluate the model\n",
    "\n",
    "x=accuracy_score(y_test,Classifier_4.predict(x_test))\n",
    "x"
   ]
  },
  {
   "cell_type": "code",
   "execution_count": 38,
   "id": "ab79d6a6",
   "metadata": {
    "execution": {
     "iopub.execute_input": "2021-09-22T16:47:12.318482Z",
     "iopub.status.busy": "2021-09-22T16:47:12.313097Z",
     "iopub.status.idle": "2021-09-22T16:47:12.464421Z",
     "shell.execute_reply": "2021-09-22T16:47:12.465508Z",
     "shell.execute_reply.started": "2021-09-22T16:46:22.921311Z"
    },
    "papermill": {
     "duration": 0.211744,
     "end_time": "2021-09-22T16:47:12.465820",
     "exception": false,
     "start_time": "2021-09-22T16:47:12.254076",
     "status": "completed"
    },
    "tags": []
   },
   "outputs": [
    {
     "name": "stdout",
     "output_type": "stream",
     "text": [
      "{'classifier 1': 0.9180327868852459, 'classifier 2': 0.8524590163934426, 'classifier 3': 0.8688524590163934, 'classifier 4': 0.819672131147541}\n"
     ]
    },
    {
     "data": {
      "image/png": "[encoded data removed]",
      "text/plain": [
       "<Figure size 432x288 with 1 Axes>"
      ]
     },
     "metadata": {
      "needs_background": "light"
     },
     "output_type": "display_data"
    }
   ],
   "source": [
    "#ploting the classifer results to determine the best classifier \n",
    "classifiers_result={}\n",
    "for i,classifier in enumerate(classifiers):\n",
    "    classifiers_result['classifier '+str(i+1)]=accuracy_score(y_test,classifier.predict(x_test))\n",
    "print(classifiers_result)\n",
    "plt.bar(range(len(classifiers_result)), list(classifiers_result.values()), align='center')\n",
    "plt.xticks(range(len(classifiers_result)), list(classifiers_result.keys()));"
   ]
  },
  {
   "cell_type": "markdown",
   "id": "519eeb88",
   "metadata": {
    "papermill": {
     "duration": 0.05561,
     "end_time": "2021-09-22T16:47:12.586803",
     "exception": false,
     "start_time": "2021-09-22T16:47:12.531193",
     "status": "completed"
    },
    "tags": []
   },
   "source": [
    "##### classifier 1 is Logistic Regression \n",
    "##### classifier 2 is KNN\n",
    "##### classifier 3 is SVC\n",
    "##### classifier 4 is Decision Tree\n"
   ]
  },
  {
   "cell_type": "markdown",
   "id": "d448b10f",
   "metadata": {
    "papermill": {
     "duration": 0.056012,
     "end_time": "2021-09-22T16:47:12.698382",
     "exception": false,
     "start_time": "2021-09-22T16:47:12.642370",
     "status": "completed"
    },
    "tags": []
   },
   "source": [
    "####  best classifier s Logistic classifier"
   ]
  },
  {
   "cell_type": "code",
   "execution_count": null,
   "id": "aeefc8ef",
   "metadata": {
    "papermill": {
     "duration": 0.056019,
     "end_time": "2021-09-22T16:47:12.810007",
     "exception": false,
     "start_time": "2021-09-22T16:47:12.753988",
     "status": "completed"
    },
    "tags": []
   },
   "outputs": [],
   "source": []
  }
 ],
 "metadata": {
  "kernelspec": {
   "display_name": "Python 3",
   "language": "python",
   "name": "python3"
  },
  "language_info": {
   "codemirror_mode": {
    "name": "ipython",
    "version": 3
   },
   "file_extension": ".py",
   "mimetype": "text/x-python",
   "name": "python",
   "nbconvert_exporter": "python",
   "pygments_lexer": "ipython3",
   "version": "3.7.10"
  },
  "papermill": {
   "default_parameters": {},
   "duration": 25.965748,
   "end_time": "2021-09-22T16:47:14.877114",
   "environment_variables": {},
   "exception": null,
   "input_path": "__notebook__.ipynb",
   "output_path": "__notebook__.ipynb",
   "parameters": {},
   "start_time": "2021-09-22T16:46:48.911366",
   "version": "2.3.3"
  }
 },
 "nbformat": 4,
 "nbformat_minor": 5
}
